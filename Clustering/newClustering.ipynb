{
 "cells": [
  {
   "cell_type": "markdown",
   "metadata": {},
   "source": [
    "## Leitura/Analise/Preparaçao dos Dados"
   ]
  },
  {
   "cell_type": "code",
   "execution_count": null,
   "metadata": {},
   "outputs": [],
   "source": [
    "import matplotlib.pyplot as plt\n",
    "import pandas as pd\n",
    "from sklearn.cluster import KMeans\n",
    "import numpy as np\n",
    "import seaborn as sb"
   ]
  },
  {
   "cell_type": "code",
   "execution_count": null,
   "metadata": {},
   "outputs": [],
   "source": [
    "# df = pd.read_csv(\"ObesityDataSet.csv\", sep=',')\n",
    "df = pd.read_csv(\"ObesityDataSet.csv\")\n",
    "\n",
    "# Conversoes para Int\n",
    "df.Age = df.Age.astype('int64')\n",
    "df.Height = df.Height.astype('int64')\n",
    "df.Weight = df.Weight.astype('int64')\n",
    "df.FCVC = df.FCVC.astype('int64')\n",
    "df.NCP = df.NCP.astype('int64')\n",
    "df.CH2O = df.CH2O.astype('int64')\n",
    "df.FAF = df.FAF.astype('int64')\n",
    "df.TUE = df.TUE.astype('int64')\n",
    "\n",
    "# Feature Map\n",
    "df.Gender = df.Gender.replace({'Male': 0, 'Female': 1})\n",
    "df.family_history_with_overweight = df.family_history_with_overweight.replace({'yes': 0, 'no': 1})\n",
    "df.FAVC = df.FAVC.replace ({'yes': 0, 'no': 1})\n",
    "df.CAEC = df.CAEC.replace ({'Sometimes': 0, 'Frequently': 1, 'Always': 2, 'no': 3})\n",
    "df.SMOKE = df.SMOKE.replace({'yes': 0, 'no': 1})\n",
    "df.SCC = df.SCC.replace({'yes': 0, 'no': 1})\n",
    "df.CALC = df.CALC.replace({'Sometimes': 0, 'Frequently': 1, 'Always': 2, 'no': 3})\n",
    "df.MTRANS = df.MTRANS.replace({'Public_Transportation': 0, 'Walking': 1, 'Automobile': 2, 'Motorbike': 3, 'Bike': 4})\n",
    "# df.NObeyesdad = df.NObeyesdad.replace({'Normal_Weight': 0, 'Overweight_Level_I': 1, 'Overweight_Level_II': 2, 'Insufficient_Weight': 3, \n",
    "#                                        'Obesity_Type_I': 4, 'Obesity_Type_II': 4, 'Obesity_Type_III': 5})\n",
    "\n",
    "#Informacoes do dataset após mudanças\n",
    "df.info()\n",
    "df.shape \n",
    "df"
   ]
  },
  {
   "cell_type": "code",
   "execution_count": null,
   "metadata": {},
   "outputs": [],
   "source": [
    "sb.pairplot(df)"
   ]
  },
  {
   "cell_type": "code",
   "execution_count": null,
   "metadata": {},
   "outputs": [],
   "source": [
    "X = np.array(df.drop('NObeyesdad', axis=1))\n",
    "X"
   ]
  },
  {
   "cell_type": "markdown",
   "metadata": {},
   "source": [
    "## KMEANS"
   ]
  },
  {
   "cell_type": "code",
   "execution_count": null,
   "metadata": {},
   "outputs": [],
   "source": [
    "kmeans = KMeans(n_clusters = 3, random_state=0) #Parametrizando K-Means com 3 Clusters\n",
    "\n",
    "kmeans.fit(X) # Treino do modelo com os Dados"
   ]
  },
  {
   "cell_type": "code",
   "execution_count": null,
   "metadata": {},
   "outputs": [],
   "source": [
    "kmeans.cluster_centers_ # Exibindo os Centroids"
   ]
  },
  {
   "cell_type": "code",
   "execution_count": null,
   "metadata": {},
   "outputs": [],
   "source": [
    "kmeans.labels_ #Clusters"
   ]
  },
  {
   "cell_type": "code",
   "execution_count": null,
   "metadata": {},
   "outputs": [],
   "source": [
    "df['K-classes'] = kmeans.labels_  #Criacao de nova coluna com os labels\n",
    "df"
   ]
  },
  {
   "cell_type": "code",
   "execution_count": null,
   "metadata": {},
   "outputs": [],
   "source": [
    "sb.pairplot(df,hue='NObeyesdad')"
   ]
  },
  {
   "cell_type": "code",
   "execution_count": null,
   "metadata": {},
   "outputs": [],
   "source": [
    "sb.pairplot(df, hue='K-classes')"
   ]
  },
  {
   "cell_type": "markdown",
   "metadata": {},
   "source": [
    "### Calculo WCSSE e Elbow"
   ]
  },
  {
   "cell_type": "code",
   "execution_count": null,
   "metadata": {},
   "outputs": [],
   "source": [
    "wcsse = []\n",
    "maxclusters = 11\n",
    "for i in range(1, maxclusters):\n",
    "    kmeans = KMeans(n_clusters = i, init = 'random')\n",
    "    kmeans.fit(X)\n",
    "    print (i,kmeans.inertia_)\n",
    "    wcsse.append(kmeans.inertia_)"
   ]
  },
  {
   "cell_type": "code",
   "execution_count": null,
   "metadata": {},
   "outputs": [],
   "source": [
    "plt.plot(range(1, maxclusters), wcsse)\n",
    "plt.title('O Metodo Elbow')\n",
    "plt.xlabel('Qtde. de Clusters')\n",
    "plt.ylabel('WCSSE') # Within Cluster Sum of Squares\n",
    "plt.show()"
   ]
  },
  {
   "cell_type": "markdown",
   "metadata": {},
   "source": [
    "### Testes"
   ]
  },
  {
   "cell_type": "code",
   "execution_count": null,
   "metadata": {},
   "outputs": [],
   "source": [
    "# usuario= [[1, 21, 1, 64, 0, 1, 2, 3, 0, 1, 2, 1, 0, 1, 3, 0] ] #classe 2\n",
    "# kmeans.predict(usuario)\n",
    "\n",
    "# usuario2 = [[0,\t23,\t1,\t77,\t0,\t1,\t2,\t3,\t0,\t1,\t2,\t1,\t2,\t1,\t1,\t0\t] ] #classe 1\n",
    "# kmeans.predict(usuario2)\n",
    "\n",
    "usuario3 =  [[1, 20, 1,\t131,\t0,\t0,\t3,\t3,\t0,\t1,\t1,\t1,\t1,\t0,\t0,\t0] ] #  classe 0\n",
    "kmeans.predict(usuario3)\n"
   ]
  }
 ],
 "metadata": {
  "kernelspec": {
   "display_name": "venvml",
   "language": "python",
   "name": "python3"
  },
  "language_info": {
   "codemirror_mode": {
    "name": "ipython",
    "version": 3
   },
   "file_extension": ".py",
   "mimetype": "text/x-python",
   "name": "python",
   "nbconvert_exporter": "python",
   "pygments_lexer": "ipython3",
   "version": "3.10.11"
  }
 },
 "nbformat": 4,
 "nbformat_minor": 2
}
