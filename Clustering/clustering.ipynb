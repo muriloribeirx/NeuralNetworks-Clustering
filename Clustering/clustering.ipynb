{
 "cells": [
  {
   "cell_type": "markdown",
   "metadata": {},
   "source": [
    "# AGRUPAMENTO K-MEANS USANDO PYTHON\n",
    "Dataset usado: bmw.csv"
   ]
  },
  {
   "cell_type": "markdown",
   "metadata": {},
   "source": [
    "### Importação de Bibliotecas"
   ]
  },
  {
   "cell_type": "code",
   "execution_count": null,
   "metadata": {},
   "outputs": [],
   "source": [
    "import matplotlib.pyplot as plt\n",
    "import pandas as pd\n",
    "from sklearn.cluster import KMeans"
   ]
  },
  {
   "cell_type": "markdown",
   "metadata": {},
   "source": [
    "### Leitura de Dados no formato .CSV"
   ]
  },
  {
   "cell_type": "code",
   "execution_count": null,
   "metadata": {},
   "outputs": [],
   "source": [
    "bmw = pd.read_csv(\"bmw.csv\", sep=';')\n",
    "bmw.head() # primeiros 5 registros\n",
    "\n",
    "bmw.shape # Informações quantitativas do dataset: 100 linhas e 9 colunas"
   ]
  },
  {
   "cell_type": "markdown",
   "metadata": {},
   "source": [
    "### Para Agrupamento (clustering), feature \"id\" não é bem-vinda!"
   ]
  },
  {
   "cell_type": "code",
   "execution_count": null,
   "metadata": {},
   "outputs": [],
   "source": [
    "# Vamos excluir o CustomerID..Vamos lá !\n",
    "# Agora ficará: 0.Dealership, 1.Showroom, 2.ComputerSearch, 3.M5, 4.3Series, 5.Z4, 6.Financing, 7.Purchase\n",
    "Xbmw = bmw.iloc[:, 1:9].values"
   ]
  },
  {
   "cell_type": "markdown",
   "metadata": {},
   "source": [
    "### Criação do modelo de Agrupamento (Clustering) usando K-Means"
   ]
  },
  {
   "cell_type": "code",
   "execution_count": null,
   "metadata": {},
   "outputs": [],
   "source": [
    "#Parametrizando K-Means com 3 Clusters e Metodo de Inicialização Randômica\n",
    "kmeans = KMeans(n_clusters = 3, init = 'random')\n",
    "kmeans"
   ]
  },
  {
   "cell_type": "markdown",
   "metadata": {},
   "source": [
    "### Treino do modelo e exibindo os centroids"
   ]
  },
  {
   "cell_type": "code",
   "execution_count": null,
   "metadata": {},
   "outputs": [],
   "source": [
    "kmeans.fit(Xbmw) # Treino do modelo com os Dados\n",
    "\n",
    "kmeans.cluster_centers_ # Exibindo os Centroids - São 3 grupos, portanto, 3 linhas com 8 colunas = 8 features\n",
    "\n",
    "kmeans.fit(Xbmw) # Treinando novamente o modelo com os Dados - Observe que novos Centroids são calculados (inicialização randômica!)\n",
    "\n",
    "kmeans.cluster_centers_ # Exibindo os Centroids - São 3 grupos, portanto, 3 linhas com 8 colunas = 8 features"
   ]
  },
  {
   "cell_type": "markdown",
   "metadata": {},
   "source": [
    "### Executa K-Means para agrupar os dados e retorna Tabela de Distancias (fit_transform)"
   ]
  },
  {
   "cell_type": "code",
   "execution_count": null,
   "metadata": {},
   "outputs": [],
   "source": [
    "# Calcula a distância entre os dados de cada linha (instância) e cada um dos 3 clusters\n",
    "distance = kmeans.fit_transform(Xbmw)\n",
    "distance"
   ]
  },
  {
   "cell_type": "markdown",
   "metadata": {},
   "source": [
    "### Para cada uma das 100 linhas do dataset, a qual dos 3 clusters ela pertence..0, 1 ou 2 ?"
   ]
  },
  {
   "cell_type": "code",
   "execution_count": null,
   "metadata": {},
   "outputs": [],
   "source": [
    "# São 100 elementos no array, um por linha\n",
    "labels = kmeans.labels_\n",
    "labels"
   ]
  },
  {
   "cell_type": "markdown",
   "metadata": {},
   "source": [
    "### Exibindo novamente os Centroids (atualizados) - São 3 grupos, portanto, 3 linhas com 8 colunas = 8 features"
   ]
  },
  {
   "cell_type": "markdown",
   "metadata": {},
   "source": [
    "kmeans.cluster_centers_"
   ]
  },
  {
   "cell_type": "markdown",
   "metadata": {},
   "source": [
    "### Visualizando os Clusters "
   ]
  },
  {
   "cell_type": "markdown",
   "metadata": {},
   "source": [
    "#### Exemplo 1"
   ]
  },
  {
   "cell_type": "code",
   "execution_count": null,
   "metadata": {},
   "outputs": [],
   "source": [
    "# Dados: 0.Dealership, 1.Showroom, 2.ComputerSearch, 3.M5, 4.3Series, 5.Z4, 6.Financing, 7.Purchase\n",
    "plt.scatter(Xbmw[:, 6], Xbmw[:,7], s = 100, c = kmeans.labels_)\n",
    "plt.scatter(kmeans.cluster_centers_[:, 6], kmeans.cluster_centers_[:, 7], s = 20, c = 'red')\n",
    "plt.title('Customer Clusters and Centroids')\n",
    "plt.xlabel('Financing')\n",
    "plt.ylabel('Purchase')\n",
    "plt.show()\n"
   ]
  },
  {
   "cell_type": "markdown",
   "metadata": {},
   "source": [
    "#### Exemplo 2\n"
   ]
  },
  {
   "cell_type": "code",
   "execution_count": null,
   "metadata": {},
   "outputs": [],
   "source": [
    "# Dados: 0.Dealership, 1.Showroom, 2.ComputerSearch, 3.M5, 4.3Series, 5.Z4, 6.Financing, 7.Purchase\n",
    "plt.scatter(Xbmw[:, 3], Xbmw[:, 7], s = 100, c = kmeans.labels_)\n",
    "plt.scatter(kmeans.cluster_centers_[:, 3], kmeans.cluster_centers_[:, 7], s = 20, c = 'red')\n",
    "plt.title('Customer Clusters and Centroids')\n",
    "plt.xlabel('M5')\n",
    "plt.ylabel('Purchase')\n",
    "plt.show()\n"
   ]
  },
  {
   "cell_type": "markdown",
   "metadata": {},
   "source": [
    "### Cálculo do WCSSE - Within Cluster Sum of Squared Errors"
   ]
  },
  {
   "cell_type": "code",
   "execution_count": null,
   "metadata": {},
   "outputs": [],
   "source": [
    "wcsse = []\n",
    "maxclusters = 11\n",
    "for i in range(1, maxclusters):\n",
    "    kmeans = KMeans(n_clusters = i, init = 'random')\n",
    "    kmeans.fit(Xbmw)\n",
    "    print (i,kmeans.inertia_)\n",
    "    wcsse.append(kmeans.inertia_)\n"
   ]
  },
  {
   "cell_type": "markdown",
   "metadata": {},
   "source": [
    "### Plotagem do Gráfico para visualização do \"cotovelo\" - Método de Elbow"
   ]
  },
  {
   "cell_type": "code",
   "execution_count": null,
   "metadata": {},
   "outputs": [],
   "source": [
    "# Ao final do Estudo do Metodo de Elbow a seguir, foram gerados 11 clusters\n",
    "plt.plot(range(1, maxclusters), wcsse)\n",
    "plt.title('O Metodo Elbow')\n",
    "plt.xlabel('Qtde. de Clusters')\n",
    "plt.ylabel('WCSSE') # Within Cluster Sum of Squares\n",
    "plt.show()\n"
   ]
  },
  {
   "cell_type": "markdown",
   "metadata": {},
   "source": [
    "### Clientes"
   ]
  },
  {
   "cell_type": "code",
   "execution_count": null,
   "metadata": {},
   "outputs": [],
   "source": [
    "# Para o cliente 1 => Dealership=1, Showroom=1, ComputerSearch=1, M5=1, 3Series=1,\n",
    "#                Z4=1, Financing=1, Purchase=1, qual grupo ele pertence?\n",
    "# O comando predict nos traz o cluster=4\n",
    "newcustomer1= [ [1, 1, 1, 1, 1, 1, 1, 1] ]\n",
    "kmeans.predict(newcustomer1)\n",
    "\n",
    "# Para o cliente 2 => Dealership=1, Showroom=0, ComputerSearch=0, M5=0, 3Series=1,\n",
    "#                Z4=1, Financing=1, Purchase=1, qual grupo ele pertence?\n",
    "# O comando predict nos traz o cluster=2\n",
    "\n",
    "newcustomer2 = [ [1, 0, 0, 0, 1, 1, 1, 1] ]\n",
    "kmeans.predict(newcustomer2)"
   ]
  }
 ],
 "metadata": {
  "kernelspec": {
   "display_name": "Python 3",
   "language": "python",
   "name": "python3"
  },
  "language_info": {
   "name": "python",
   "version": "3.12.0"
  }
 },
 "nbformat": 4,
 "nbformat_minor": 2
}
