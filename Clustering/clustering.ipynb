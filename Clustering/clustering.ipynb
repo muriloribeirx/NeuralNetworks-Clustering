{
 "cells": [
  {
   "cell_type": "markdown",
   "metadata": {},
   "source": [
    "# AGRUPAMENTO K-MEANS USANDO PYTHON\n",
    "Dataset usado: bmw.csv"
   ]
  },
  {
   "cell_type": "markdown",
   "metadata": {},
   "source": [
    "### Importação de Bibliotecas"
   ]
  },
  {
   "cell_type": "code",
   "execution_count": 22,
   "metadata": {},
   "outputs": [],
   "source": [
    "import matplotlib.pyplot as plt\n",
    "import pandas as pd\n",
    "from sklearn.cluster import KMeans"
   ]
  },
  {
   "cell_type": "markdown",
   "metadata": {},
   "source": [
    "### Leitura de Dados no formato .CSV"
   ]
  },
  {
   "cell_type": "code",
   "execution_count": 34,
   "metadata": {},
   "outputs": [],
   "source": [
    "obesity = pd.read_csv(\"ObesityDataSet.csv\", sep=',')\n",
    "\n",
    "# obesity.head() # primeiros 5 registros\n",
    "\n",
    "## Informações quantitativas do dataset: 100 linhas e 9 colunas\n",
    "\n",
    "features_map = {\n",
    "    'Gender': {'Male': 0, 'Female': 1},\n",
    "    'family_history_with_overweight': {'yes': 0, 'no': 1},\n",
    "    'FAVC': {'yes': 0, 'no': 1},\n",
    "    'CAEC': {'Sometimes': 0, 'Frequently': 1, 'Always': 2, 'no': 3},\n",
    "    'SMOKE': {'yes': 0, 'no': 1},\n",
    "    'SCC': {'yes': 0, 'no': 1},\n",
    "    'CALC': {'Sometimes': 0, 'Frequently': 1, 'Always': 2, 'no': 3},\n",
    "    'MTRANS': {'Public_Transportation': 0, 'Walking': 1, 'Automobile': 2, 'Motorbike': 3},\n",
    "    'NObeyesdad': {'Normal_Weight': 0, 'Overweight_Level_I': 1, 'Overweight_Level_II': 2, 'Insufficient_Weight': 3}\n",
    "}"
   ]
  },
  {
   "cell_type": "code",
   "execution_count": 24,
   "metadata": {},
   "outputs": [
    {
     "name": "stdout",
     "output_type": "stream",
     "text": [
      "Features:\"Gender\", Valores: ['Female' 'Male']\n",
      "Features:\"Age\", Valores: [21.       23.       27.       ... 22.524036 24.361936 23.664709]\n",
      "Features:\"Height\", Valores: [1.62     1.52     1.8      ... 1.752206 1.73945  1.738836]\n",
      "Features:\"Weight\", Valores: [ 64.        56.        77.       ... 133.689352 133.346641 133.472641]\n",
      "Features:\"family_history_with_overweight\", Valores: ['yes' 'no']\n",
      "Features:\"FAVC\", Valores: ['no' 'yes']\n",
      "Features:\"FCVC\", Valores: [2.       3.       1.       2.450218 2.880161 2.00876  2.596579 2.591439\n",
      " 2.392665 1.123939 2.027574 2.658112 2.88626  2.714447 2.750715 1.4925\n",
      " 2.205439 2.059138 2.310423 2.823179 2.052932 2.596364 2.767731 2.815157\n",
      " 2.737762 2.568063 2.524428 2.971574 1.0816   1.270448 1.344854 2.959658\n",
      " 2.725282 2.844607 2.44004  2.432302 2.592247 2.449267 2.929889 2.015258\n",
      " 1.031149 1.592183 1.21498  1.522001 2.703436 2.362918 2.14084  2.5596\n",
      " 2.336044 1.813234 2.724285 2.71897  1.133844 1.757466 2.979383 2.204914\n",
      " 2.927218 2.88853  2.890535 2.530066 2.241606 1.003566 2.652779 2.897899\n",
      " 2.483979 2.945967 2.478891 2.784464 1.005578 2.938031 2.842102 1.889199\n",
      " 2.943749 2.33998  1.950742 2.277436 2.371338 2.984425 2.977018 2.663421\n",
      " 2.753752 2.318355 2.594653 2.886157 2.967853 2.619835 1.053534 2.530233\n",
      " 2.8813   2.824559 2.762325 2.070964 2.68601  2.794197 2.720701 2.880792\n",
      " 2.674431 2.55996  1.212908 1.140615 2.562409 2.004146 2.690754 2.051283\n",
      " 2.19005  2.21498  2.91548  2.708965 2.853513 2.580872 2.508835 2.896562\n",
      " 2.911877 2.910733 2.966126 2.613249 2.627031 2.919751 2.494451 1.69427\n",
      " 1.601236 1.204855 1.052699 2.910345 2.866383 2.913486 2.432886 2.883745\n",
      " 2.707666 2.919584 2.969205 2.486189 1.642241 1.567101 1.036414 1.649974\n",
      " 1.118436 2.673638 2.120185 2.34222  2.86099  2.559571 2.424977 1.786841\n",
      " 1.303878 1.889883 2.984004 2.749268 1.202075 1.871213 2.341133 1.450218\n",
      " 1.206276 2.81646  1.758394 2.577427 2.052152 2.954996 2.555401 2.108711\n",
      " 2.915279 1.570089 1.94313  2.903545 1.75375  2.543563 2.39728  2.37464\n",
      " 2.278644 1.620845 2.061952 2.838969 2.652958 1.27785  1.729824 1.452524\n",
      " 2.303367 2.948425 2.291846 1.906194 1.834155 2.048582 2.948248 2.869436\n",
      " 2.293705 2.510583 2.366949 2.615788 2.217267 2.801514 2.188722 2.971351\n",
      " 2.086093 1.901611 1.977298 2.446872 2.839048 2.21232  2.427689 2.357496\n",
      " 1.078529 1.064162 1.993101 2.620963 2.95118  2.021446 2.000466 2.5621\n",
      " 2.96008  2.53915  2.244142 2.253371 2.851664 1.31415  1.321028 2.253998\n",
      " 2.778079 2.838037 2.814453 2.013782 2.459976 2.643183 2.22399  2.104105\n",
      " 1.972545 2.286481 2.971588 2.872121 2.109162 2.178889 1.142468 2.047069\n",
      " 2.843709 2.416044 2.146598 1.766849 1.188089 1.910176 2.956671 2.002796\n",
      " 2.288604 2.277077 2.138334 2.029634 2.048216 2.8557   2.995599 2.987148\n",
      " 1.887951 2.786008 2.342323 1.874935 2.213135 2.273548 2.780699 1.687569\n",
      " 1.989905 1.947405 2.162519 2.923916 2.99448  2.507841 1.836554 1.773265\n",
      " 2.388168 2.286146 2.487167 2.185938 2.206399 1.952987 2.908757 2.628791\n",
      " 2.749629 1.595746 2.885178 2.372494 2.153639 2.793561 2.992329 2.927409\n",
      " 2.706134 2.010684 2.300408 2.119643 2.901924 2.451009 2.754646 2.417635\n",
      " 2.512719 1.771693 1.57223  2.661556 2.097373 2.061461 1.317729 1.882235\n",
      " 2.951591 2.067817 2.54527  2.694281 2.821977 2.252472 2.033745 2.595128\n",
      " 2.759286 1.925064 2.846981 2.650629 2.631565 2.522399 2.784471 1.650505\n",
      " 1.961347 2.133955 2.684528 2.265973 1.306844 2.258795 2.689929 2.712747\n",
      " 2.353603 2.598051 1.718156 2.795086 2.030256 2.493448 2.442536 2.003951\n",
      " 1.34138  2.607335 2.061384 2.696381 1.116068 2.116432 2.031246 2.884212\n",
      " 2.444599 2.976975 2.766036 1.096455 2.129969 2.019674 2.735297 1.588782\n",
      " 2.01054  2.689577 2.413156 2.923433 2.882522 1.973499 2.156065 2.992205\n",
      " 2.944287 1.780746 2.164062 2.247704 2.011656 2.03414  2.746408 2.1239\n",
      " 2.332074 2.748243 2.303656 1.904732 1.979944 2.407817 2.734314 2.784383\n",
      " 2.009952 2.008656 1.122127 1.963965 2.319776 1.899116 2.042762 2.129668\n",
      " 2.182401 2.802696 2.492758 2.733129 2.294067 2.315932 2.802128 2.79606\n",
      " 2.086898 2.333503 1.653081 2.535315 2.765769 2.215464 2.63165  2.942154\n",
      " 2.716909 1.83746  1.936479 2.045027 2.760607 2.09449  2.907062 2.399531\n",
      " 1.521604 2.501683 2.76802  2.742796 2.325623 2.076689 2.271306 2.33361\n",
      " 2.13683  2.909853 2.490507 1.063449 2.699282 2.4277   2.87599  2.177243\n",
      " 2.846452 2.19011  2.069267 1.362441 2.09663  2.928234 2.496455 1.70825\n",
      " 2.262171 2.740633 1.081585 2.587789 2.252653 2.036613 2.609123 1.036159\n",
      " 1.851262 2.501236 2.031185 2.014194 2.028225 2.037585 1.853314 1.00876\n",
      " 2.103335 2.060922 2.058687 2.533605 2.457547 2.983851 2.061969 2.450784\n",
      " 2.972426 2.467002 2.934671 2.043359 2.787589 2.150054 2.977585 2.274491\n",
      " 1.557287 2.152264 2.08841  2.180047 1.826885 1.754401 1.524428 1.164062\n",
      " 2.123159 2.259679 2.044326 2.843456 2.864776 2.871137 2.282803 2.020502\n",
      " 2.020785 2.737149 1.899793 2.274164 1.897796 2.85916  2.340405 2.921576\n",
      " 2.92711  2.805533 2.902469 2.845961 2.252698 2.02091  2.108163 1.518966\n",
      " 2.260543 2.522183 2.186322 2.76632  2.071622 1.918251 1.967061 2.964419\n",
      " 2.640801 2.870152 2.482575 2.290095 2.074843 2.14128  2.334474 2.693859\n",
      " 2.607747 2.66889  2.921225 1.492834 1.220024 2.667676 2.569075 2.949242\n",
      " 2.104772 2.871768 2.540949 2.222282 2.04516  2.094184 1.123672 2.049112\n",
      " 1.880534 1.203754 2.73691  2.736628 2.121909 2.642744 2.387426 1.996638\n",
      " 2.107854 2.253707 2.393837 2.348745 2.312825 2.490776 2.078082 2.805512\n",
      " 1.276858 2.396265 2.663866 2.685484 2.055209 2.025479 2.002564 2.385502\n",
      " 2.465575 2.818502 2.081238 1.368978 1.712848 1.3307   1.961069 2.976509\n",
      " 2.319648 1.261288 2.76533  2.317734 1.588114 2.549782 2.206276 2.18354\n",
      " 2.962415 1.99124  2.408561 2.758394 2.956297 1.369529 1.392665 2.630401\n",
      " 2.869778 1.868212 1.108663 2.907744 2.95801  2.197261 2.048962 2.139196\n",
      " 2.72989  1.994679 2.403421 2.964319 1.617093 1.631144 2.317459 2.501224\n",
      " 2.983042 2.323351 1.428289 1.992889 1.562804 1.794825 2.305349 2.576449\n",
      " 2.754645 2.633855 2.200588 2.499108 2.05687  2.247795 2.239634 2.09283\n",
      " 2.9673   2.225731 2.178308 2.065752 2.263245 2.443538 2.744994 2.630137\n",
      " 2.113843 2.821727 2.312528 2.938801 2.050619 1.457758 2.19331  2.028571\n",
      " 1.455602 2.177896 2.252382 2.668949 2.723953 2.736298 2.722161 2.871016\n",
      " 2.96405  2.653721 2.859097 1.572036 1.387489 2.941929 2.973569 2.041376\n",
      " 2.02472  2.133964 2.702457 1.760038 1.996646 2.644094 2.475892 2.941627\n",
      " 2.998441 2.397284 2.382705 2.176317 2.877743 2.303041 2.323003 1.99953\n",
      " 1.585183 2.281963 2.561638 2.600217 2.79166  2.08868  2.206119 2.328469\n",
      " 2.002784 1.975675 2.002076 2.218599 2.392179 2.381164 2.008245 2.155182\n",
      " 2.969233 2.765063 2.195964 2.619987 2.918113 2.889485 2.939727 1.264234\n",
      " 1.517912 2.23372  1.475906 2.032883 2.046651 2.667229 2.819934 2.954417\n",
      " 2.826251 2.95841  2.935157 2.870895 2.869833 1.878251 1.750809 1.168856\n",
      " 1.443674 2.826036 2.9553   2.774562 2.772027 2.499626 2.108638 2.467548\n",
      " 2.585942 2.14961  2.938616 2.535154 2.611222 1.800122 1.482722 1.735664\n",
      " 1.655684 2.598207 2.225149 2.519592 2.111887 2.970983 2.907542 1.451337\n",
      " 1.537505 1.893428 2.007845 2.487781 2.541785 2.813775 2.562687 2.922511\n",
      " 2.836055 2.880759 2.766441 2.997524 2.320201 2.181057 1.924632 1.397468\n",
      " 2.191429 2.100177 2.075321 1.626369 1.263216 1.067909 2.310751 2.294259\n",
      " 2.57649  2.679664 2.938687 2.654792 2.731368 2.22259  2.432355 2.497548\n",
      " 2.671238 2.57691  2.341999 2.117121 2.247037 2.244654 2.128574 2.068834\n",
      " 2.073224 2.145114 2.997951 2.911312 2.159033 2.175276 2.21965  2.203962\n",
      " 1.947495 2.262292 2.219186 2.314175 2.423291 2.637202 2.974006 2.347942\n",
      " 2.654076 2.739    2.591292 2.611847 2.766612 2.777165 2.232836 2.571274\n",
      " 2.49619  2.151335 2.01695  2.927187 1.412566 1.289315 1.624366 1.528331\n",
      " 2.037042 2.191108 1.431346 1.84199  2.499388 2.230742 2.240757 2.996186\n",
      " 2.649406 2.525884 2.736647 2.684335 2.425503 1.469384 2.906269 2.808027\n",
      " 2.636719 2.996717 2.880483 2.885693 2.913452 2.919526 2.724121 2.801992\n",
      " 2.748971 2.680375]\n",
      "Features:\"NCP\", Valores: [3.       1.       4.       3.28926  3.995147 1.72626  2.581015 1.600812\n",
      " 1.73762  1.10548  2.0846   1.894384 2.857787 3.765526 3.285167 3.691226\n",
      " 3.156153 1.07976  3.559841 3.891994 3.240578 3.904858 3.11158  3.590039\n",
      " 2.057935 3.558637 2.000986 3.821168 3.897078 3.092116 3.286431 3.592415\n",
      " 3.754599 3.566082 3.725797 3.520555 3.731212 1.259803 1.273128 3.304123\n",
      " 3.647154 3.300666 3.535016 1.717608 2.884479 3.626815 1.473088 3.16645\n",
      " 3.494849 2.99321  2.127797 3.90779  3.699594 3.179995 1.075553 3.238258\n",
      " 3.804944 1.630846 3.762778 3.371832 2.705445 3.34175  2.217651 2.893778\n",
      " 3.502604 3.998766 3.193671 1.69608  2.812377 1.612747 1.082304 1.882158\n",
      " 2.326233 1.989398 1.735493 2.974568 3.715118 3.489918 3.378859 3.263201\n",
      " 3.994588 3.24934  3.087544 1.163666 3.409363 3.281391 3.98525  3.207071\n",
      " 3.471536 3.488342 3.443456 3.03779  3.642802 2.645858 3.420618 2.64155\n",
      " 3.887906 3.435905 3.747163 2.625475 3.098399 3.12544  3.96981  3.712183\n",
      " 3.832911 3.576103 3.56544  3.266644 3.433908 3.531038 3.998618 1.226342\n",
      " 1.060796 3.595761 3.737914 3.697831 3.21043  3.45259  3.205587 1.513835\n",
      " 2.779379 3.732126 3.937099 3.047959 2.975362 1.394539 3.131032 1.578521\n",
      " 3.985442 3.623364 3.36313  1.146052 3.981997 1.9154   2.105616 3.714833\n",
      " 3.292386 1.104642 3.654061 1.296156 2.656588 2.809716 2.77684  1.999014\n",
      " 2.644692 2.449723 2.794156 1.146794 1.131695 2.488189 3.999591 3.612941\n",
      " 3.950553 2.951837 2.799979 2.228113 3.042774 1.198643 1.555557 3.987707\n",
      " 3.995957 1.047197 1.193589 3.390143 3.546352 3.266501 3.554974 2.372311\n",
      " 2.10601  3.715306 3.376717 1.211606 3.98955  3.171082 3.105007 1.590982\n",
      " 1.704828 2.725012 2.372339 1.097312 1.068196 1.411685 2.752318 2.737571\n",
      " 2.973504 2.608055 2.625942 1.411808 1.095223 3.30846  3.821461 2.658639\n",
      " 2.339614 1.713762 2.743277 3.051804 3.245148 3.563744 3.829101 3.058539\n",
      " 3.196043 1.391778 1.13715  3.322522 3.269088 2.938135 1.259628 2.965494\n",
      " 2.845307 3.095663 3.483449 3.156309 3.728377 3.60885  3.370362 2.39007\n",
      " 1.101404 2.756405 3.054899 3.118013 3.335876 3.205009 3.648194 1.865238\n",
      " 2.118153 2.961113 2.400943 2.870005 1.030416 2.696051 2.762883 2.401341\n",
      " 2.298612 3.618722 2.562895 2.849848 2.805436 3.715148 3.788602 1.893811\n",
      " 1.010319 2.669766 1.322087 2.041558 2.468421 2.110937 3.071028 3.292956\n",
      " 2.283673 1.124977 2.9948   2.983297 1.890213 1.888067 2.256119 2.6648\n",
      " 2.547086 2.812283 2.278652 1.240046 1.660768 2.597608 2.044035 2.038373\n",
      " 1.474836 3.986652 2.720642 1.976744 2.679724 1.619796 2.59257  1.546665\n",
      " 3.339914 3.884861 2.358298 1.802305 2.7976   2.627173 1.032887 3.014808\n",
      " 2.271734 2.122545 2.902766 2.687502 1.178708 2.279546 2.677693 3.53009\n",
      " 1.835543 2.853676 2.337035 1.631184 1.005391 3.250467 2.948721 1.80993\n",
      " 1.94671  2.9796   2.994198 2.579291 2.449067 1.532833 2.961706 1.152521\n",
      " 1.729553 1.346987 1.977221 2.443812 2.491315 2.843319 2.157164 2.601675\n",
      " 1.171027 3.362758 1.672706 2.714115 2.521546 1.338033 1.081805 3.087119\n",
      " 2.909117 1.466393 1.471053 2.983201 2.783336 1.863012 3.053598 3.165837\n",
      " 2.741413 1.058123 2.997414 1.672958 1.680838 3.070386 2.608416 1.599464\n",
      " 2.815255 2.395785 2.844138 2.716106 1.402771 2.865657 1.836226 2.884848\n",
      " 2.375026 2.9774   2.693646 2.832018 2.270163 2.646717 1.193729 1.477581\n",
      " 3.209508 2.756622 2.658478 1.971472 1.818026 1.820779 1.724887 3.129155\n",
      " 3.856434 2.753418 2.116195 2.049908 1.044628 2.98212  1.009426 2.667711\n",
      " 3.000974 2.698883 2.598079 2.837388 2.946063 1.873484 2.473911 1.79558\n",
      " 2.623079 2.174968 2.676148 3.394788 2.137068 2.937607 1.313403 2.113575\n",
      " 2.092179 2.974204 1.001633 1.2919   1.139317 2.029858 2.977543 1.476204\n",
      " 2.57038  2.879541 1.458507 1.105617 1.854536 1.08687  1.25535  2.870661\n",
      " 1.482103 1.81698  2.582591 2.164839 2.141839 2.877583 2.95833  2.119826\n",
      " 2.992606 2.050121 1.923607 2.27374  1.418985 1.320768 2.964024 2.933409\n",
      " 2.962004 1.271624 1.00061  1.068443 2.952821 1.851088 2.119682 2.970675\n",
      " 2.966803 1.508685 2.209314 1.114564 2.036794 2.988539 1.630506 2.977999\n",
      " 2.733077 2.427137 1.867836 1.548407 2.937989 1.237454 1.169173 2.391753\n",
      " 2.475444 2.478794 2.070033 2.282392 1.049534 1.66338  1.672751 1.734762\n",
      " 1.92822  2.475228 2.093831 1.231915 1.374791 1.326982 2.900915 1.317884\n",
      " 2.977909 1.355752 1.015488 2.986172 2.993623 1.001383 1.001542 2.590283\n",
      " 1.773916 2.989112 1.496776 2.994046 1.000283 1.000414 1.135278 2.463113\n",
      " 1.782109 2.376374 2.976098 2.968098 1.792695 1.116401 2.984523 2.978103\n",
      " 1.578751 1.874532 2.735706 1.014916 2.622055 2.806566 1.355354 1.478334\n",
      " 1.130751 1.099151 2.358455 1.706551 1.24884  1.250548 1.202179 1.194815\n",
      " 2.880817 2.918124 1.073421 1.416309 2.18162  2.152733 1.046144 1.974233\n",
      " 2.880794 2.765213 2.967089 2.37985  2.655265 1.941307 1.709546 2.883984\n",
      " 2.935381 2.961192 2.973476 2.392811 1.293342 2.930044 2.129909 2.831771\n",
      " 2.595126 2.52751  2.120936 1.468948 3.990925 2.834253 3.734323 2.049565\n",
      " 2.272214 2.218285 1.418833 1.109956 3.914454 3.169089 2.419656 2.175432\n",
      " 2.806298 2.987652 2.842848 1.134321 1.924168 2.701689 2.992903 2.658837\n",
      " 2.80742  1.834472 2.123138 1.265463 1.340361 3.989492 2.650088 2.89292\n",
      " 2.938902 2.986637 2.701521 2.014671 1.971659 1.311797 1.262831 3.770379\n",
      " 2.87747  2.175153 2.13229  2.993634 2.999346 2.976211 2.842035 1.09749\n",
      " 1.91863  2.510135 2.65772  2.604998 2.567567 2.434347 1.845858 1.627555\n",
      " 1.569176 2.371658 2.378211 2.301129 2.454432 2.915921 2.992083 2.849347\n",
      " 2.954446 3.755976 2.902639 2.372705 2.100918 2.272801 2.692889 2.280545\n",
      " 2.675411 1.487674 1.02075  1.240424 1.154318 3.219347 3.656401 3.220181\n",
      " 2.850948 2.187145 2.415522 2.138375 1.077331 2.888193 2.574108 2.740492\n",
      " 2.956422 2.749334 2.993856 2.993084 2.989791 2.920373 2.911568 1.134042\n",
      " 1.120102 2.040582 2.015675 2.711238 2.695396 2.996834 2.996444 2.894142\n",
      " 2.683061 2.806341 2.791366 1.703299 1.685134 2.269799 2.142328 1.437959\n",
      " 1.343117 1.213431 1.089048]\n",
      "Features:\"CAEC\", Valores: ['Sometimes' 'Frequently' 'Always' 'no']\n",
      "Features:\"SMOKE\", Valores: ['no' 'yes']\n",
      "Features:\"CH2O\", Valores: [2.       3.       1.       ... 2.054193 2.852339 2.863513]\n",
      "Features:\"SCC\", Valores: ['no' 'yes']\n",
      "Features:\"FAF\", Valores: [0.       3.       2.       ... 1.414209 1.139107 1.026452]\n",
      "Features:\"TUE\", Valores: [1.       0.       2.       ... 0.646288 0.586035 0.714137]\n",
      "Features:\"CALC\", Valores: ['no' 'Sometimes' 'Frequently' 'Always']\n",
      "Features:\"MTRANS\", Valores: ['Public_Transportation' 'Walking' 'Automobile' 'Motorbike' 'Bike']\n",
      "Features:\"NObeyesdad\", Valores: ['Normal_Weight' 'Overweight_Level_I' 'Overweight_Level_II'\n",
      " 'Obesity_Type_I' 'Insufficient_Weight' 'Obesity_Type_II'\n",
      " 'Obesity_Type_III']\n"
     ]
    }
   ],
   "source": [
    "for col in obesity:\n",
    "    print(f'Features:\"{col}\", Valores: {obesity[col].unique()}')\n"
   ]
  },
  {
   "cell_type": "code",
   "execution_count": 35,
   "metadata": {},
   "outputs": [
    {
     "ename": "KeyError",
     "evalue": "'Age'",
     "output_type": "error",
     "traceback": [
      "\u001b[1;31m---------------------------------------------------------------------------\u001b[0m",
      "\u001b[1;31mKeyError\u001b[0m                                  Traceback (most recent call last)",
      "\u001b[1;32mc:\\Users\\Murilo\\Desktop\\WorkSpace\\TP2_walmir\\RNA-Clustering\\Clustering\\clustering.ipynb Cell 7\u001b[0m line \u001b[0;36m2\n\u001b[0;32m      <a href='vscode-notebook-cell:/c%3A/Users/Murilo/Desktop/WorkSpace/TP2_walmir/RNA-Clustering/Clustering/clustering.ipynb#X11sZmlsZQ%3D%3D?line=0'>1</a>\u001b[0m \u001b[39mfor\u001b[39;00m col \u001b[39min\u001b[39;00m obesity:\n\u001b[1;32m----> <a href='vscode-notebook-cell:/c%3A/Users/Murilo/Desktop/WorkSpace/TP2_walmir/RNA-Clustering/Clustering/clustering.ipynb#X11sZmlsZQ%3D%3D?line=1'>2</a>\u001b[0m     obesity[col] \u001b[39m=\u001b[39m obesity[col]\u001b[39m.\u001b[39;49mapply(\u001b[39mlambda\u001b[39;49;00m k: features_map[col][k])\n\u001b[0;32m      <a href='vscode-notebook-cell:/c%3A/Users/Murilo/Desktop/WorkSpace/TP2_walmir/RNA-Clustering/Clustering/clustering.ipynb#X11sZmlsZQ%3D%3D?line=2'>3</a>\u001b[0m class_names \u001b[39m=\u001b[39m obesity\u001b[39m.\u001b[39mNObeyesdad\u001b[39m.\u001b[39munique()\n\u001b[0;32m      <a href='vscode-notebook-cell:/c%3A/Users/Murilo/Desktop/WorkSpace/TP2_walmir/RNA-Clustering/Clustering/clustering.ipynb#X11sZmlsZQ%3D%3D?line=4'>5</a>\u001b[0m \u001b[39mfor\u001b[39;00m col \u001b[39min\u001b[39;00m obesity:\n",
      "File \u001b[1;32mc:\\Users\\Murilo\\Desktop\\WorkSpace\\TP2_walmir\\venvml\\lib\\site-packages\\pandas\\core\\series.py:4760\u001b[0m, in \u001b[0;36mSeries.apply\u001b[1;34m(self, func, convert_dtype, args, by_row, **kwargs)\u001b[0m\n\u001b[0;32m   4625\u001b[0m \u001b[39mdef\u001b[39;00m \u001b[39mapply\u001b[39m(\n\u001b[0;32m   4626\u001b[0m     \u001b[39mself\u001b[39m,\n\u001b[0;32m   4627\u001b[0m     func: AggFuncType,\n\u001b[1;32m   (...)\u001b[0m\n\u001b[0;32m   4632\u001b[0m     \u001b[39m*\u001b[39m\u001b[39m*\u001b[39mkwargs,\n\u001b[0;32m   4633\u001b[0m ) \u001b[39m-\u001b[39m\u001b[39m>\u001b[39m DataFrame \u001b[39m|\u001b[39m Series:\n\u001b[0;32m   4634\u001b[0m \u001b[39m    \u001b[39m\u001b[39m\"\"\"\u001b[39;00m\n\u001b[0;32m   4635\u001b[0m \u001b[39m    Invoke function on values of Series.\u001b[39;00m\n\u001b[0;32m   4636\u001b[0m \n\u001b[1;32m   (...)\u001b[0m\n\u001b[0;32m   4751\u001b[0m \u001b[39m    dtype: float64\u001b[39;00m\n\u001b[0;32m   4752\u001b[0m \u001b[39m    \"\"\"\u001b[39;00m\n\u001b[0;32m   4753\u001b[0m     \u001b[39mreturn\u001b[39;00m SeriesApply(\n\u001b[0;32m   4754\u001b[0m         \u001b[39mself\u001b[39;49m,\n\u001b[0;32m   4755\u001b[0m         func,\n\u001b[0;32m   4756\u001b[0m         convert_dtype\u001b[39m=\u001b[39;49mconvert_dtype,\n\u001b[0;32m   4757\u001b[0m         by_row\u001b[39m=\u001b[39;49mby_row,\n\u001b[0;32m   4758\u001b[0m         args\u001b[39m=\u001b[39;49margs,\n\u001b[0;32m   4759\u001b[0m         kwargs\u001b[39m=\u001b[39;49mkwargs,\n\u001b[1;32m-> 4760\u001b[0m     )\u001b[39m.\u001b[39;49mapply()\n",
      "File \u001b[1;32mc:\\Users\\Murilo\\Desktop\\WorkSpace\\TP2_walmir\\venvml\\lib\\site-packages\\pandas\\core\\apply.py:1207\u001b[0m, in \u001b[0;36mSeriesApply.apply\u001b[1;34m(self)\u001b[0m\n\u001b[0;32m   1204\u001b[0m     \u001b[39mreturn\u001b[39;00m \u001b[39mself\u001b[39m\u001b[39m.\u001b[39mapply_compat()\n\u001b[0;32m   1206\u001b[0m \u001b[39m# self.func is Callable\u001b[39;00m\n\u001b[1;32m-> 1207\u001b[0m \u001b[39mreturn\u001b[39;00m \u001b[39mself\u001b[39;49m\u001b[39m.\u001b[39;49mapply_standard()\n",
      "File \u001b[1;32mc:\\Users\\Murilo\\Desktop\\WorkSpace\\TP2_walmir\\venvml\\lib\\site-packages\\pandas\\core\\apply.py:1287\u001b[0m, in \u001b[0;36mSeriesApply.apply_standard\u001b[1;34m(self)\u001b[0m\n\u001b[0;32m   1281\u001b[0m \u001b[39m# row-wise access\u001b[39;00m\n\u001b[0;32m   1282\u001b[0m \u001b[39m# apply doesn't have a `na_action` keyword and for backward compat reasons\u001b[39;00m\n\u001b[0;32m   1283\u001b[0m \u001b[39m# we need to give `na_action=\"ignore\"` for categorical data.\u001b[39;00m\n\u001b[0;32m   1284\u001b[0m \u001b[39m# TODO: remove the `na_action=\"ignore\"` when that default has been changed in\u001b[39;00m\n\u001b[0;32m   1285\u001b[0m \u001b[39m#  Categorical (GH51645).\u001b[39;00m\n\u001b[0;32m   1286\u001b[0m action \u001b[39m=\u001b[39m \u001b[39m\"\u001b[39m\u001b[39mignore\u001b[39m\u001b[39m\"\u001b[39m \u001b[39mif\u001b[39;00m \u001b[39misinstance\u001b[39m(obj\u001b[39m.\u001b[39mdtype, CategoricalDtype) \u001b[39melse\u001b[39;00m \u001b[39mNone\u001b[39;00m\n\u001b[1;32m-> 1287\u001b[0m mapped \u001b[39m=\u001b[39m obj\u001b[39m.\u001b[39;49m_map_values(\n\u001b[0;32m   1288\u001b[0m     mapper\u001b[39m=\u001b[39;49mcurried, na_action\u001b[39m=\u001b[39;49maction, convert\u001b[39m=\u001b[39;49m\u001b[39mself\u001b[39;49m\u001b[39m.\u001b[39;49mconvert_dtype\n\u001b[0;32m   1289\u001b[0m )\n\u001b[0;32m   1291\u001b[0m \u001b[39mif\u001b[39;00m \u001b[39mlen\u001b[39m(mapped) \u001b[39mand\u001b[39;00m \u001b[39misinstance\u001b[39m(mapped[\u001b[39m0\u001b[39m], ABCSeries):\n\u001b[0;32m   1292\u001b[0m     \u001b[39m# GH#43986 Need to do list(mapped) in order to get treated as nested\u001b[39;00m\n\u001b[0;32m   1293\u001b[0m     \u001b[39m#  See also GH#25959 regarding EA support\u001b[39;00m\n\u001b[0;32m   1294\u001b[0m     \u001b[39mreturn\u001b[39;00m obj\u001b[39m.\u001b[39m_constructor_expanddim(\u001b[39mlist\u001b[39m(mapped), index\u001b[39m=\u001b[39mobj\u001b[39m.\u001b[39mindex)\n",
      "File \u001b[1;32mc:\\Users\\Murilo\\Desktop\\WorkSpace\\TP2_walmir\\venvml\\lib\\site-packages\\pandas\\core\\base.py:921\u001b[0m, in \u001b[0;36mIndexOpsMixin._map_values\u001b[1;34m(self, mapper, na_action, convert)\u001b[0m\n\u001b[0;32m    918\u001b[0m \u001b[39mif\u001b[39;00m \u001b[39misinstance\u001b[39m(arr, ExtensionArray):\n\u001b[0;32m    919\u001b[0m     \u001b[39mreturn\u001b[39;00m arr\u001b[39m.\u001b[39mmap(mapper, na_action\u001b[39m=\u001b[39mna_action)\n\u001b[1;32m--> 921\u001b[0m \u001b[39mreturn\u001b[39;00m algorithms\u001b[39m.\u001b[39;49mmap_array(arr, mapper, na_action\u001b[39m=\u001b[39;49mna_action, convert\u001b[39m=\u001b[39;49mconvert)\n",
      "File \u001b[1;32mc:\\Users\\Murilo\\Desktop\\WorkSpace\\TP2_walmir\\venvml\\lib\\site-packages\\pandas\\core\\algorithms.py:1814\u001b[0m, in \u001b[0;36mmap_array\u001b[1;34m(arr, mapper, na_action, convert)\u001b[0m\n\u001b[0;32m   1812\u001b[0m values \u001b[39m=\u001b[39m arr\u001b[39m.\u001b[39mastype(\u001b[39mobject\u001b[39m, copy\u001b[39m=\u001b[39m\u001b[39mFalse\u001b[39;00m)\n\u001b[0;32m   1813\u001b[0m \u001b[39mif\u001b[39;00m na_action \u001b[39mis\u001b[39;00m \u001b[39mNone\u001b[39;00m:\n\u001b[1;32m-> 1814\u001b[0m     \u001b[39mreturn\u001b[39;00m lib\u001b[39m.\u001b[39;49mmap_infer(values, mapper, convert\u001b[39m=\u001b[39;49mconvert)\n\u001b[0;32m   1815\u001b[0m \u001b[39melse\u001b[39;00m:\n\u001b[0;32m   1816\u001b[0m     \u001b[39mreturn\u001b[39;00m lib\u001b[39m.\u001b[39mmap_infer_mask(\n\u001b[0;32m   1817\u001b[0m         values, mapper, mask\u001b[39m=\u001b[39misna(values)\u001b[39m.\u001b[39mview(np\u001b[39m.\u001b[39muint8), convert\u001b[39m=\u001b[39mconvert\n\u001b[0;32m   1818\u001b[0m     )\n",
      "File \u001b[1;32mlib.pyx:2920\u001b[0m, in \u001b[0;36mpandas._libs.lib.map_infer\u001b[1;34m()\u001b[0m\n",
      "\u001b[1;32mc:\\Users\\Murilo\\Desktop\\WorkSpace\\TP2_walmir\\RNA-Clustering\\Clustering\\clustering.ipynb Cell 7\u001b[0m line \u001b[0;36m2\n\u001b[0;32m      <a href='vscode-notebook-cell:/c%3A/Users/Murilo/Desktop/WorkSpace/TP2_walmir/RNA-Clustering/Clustering/clustering.ipynb#X11sZmlsZQ%3D%3D?line=0'>1</a>\u001b[0m \u001b[39mfor\u001b[39;00m col \u001b[39min\u001b[39;00m obesity:\n\u001b[1;32m----> <a href='vscode-notebook-cell:/c%3A/Users/Murilo/Desktop/WorkSpace/TP2_walmir/RNA-Clustering/Clustering/clustering.ipynb#X11sZmlsZQ%3D%3D?line=1'>2</a>\u001b[0m     obesity[col] \u001b[39m=\u001b[39m obesity[col]\u001b[39m.\u001b[39mapply(\u001b[39mlambda\u001b[39;00m k: features_map[col][k])\n\u001b[0;32m      <a href='vscode-notebook-cell:/c%3A/Users/Murilo/Desktop/WorkSpace/TP2_walmir/RNA-Clustering/Clustering/clustering.ipynb#X11sZmlsZQ%3D%3D?line=2'>3</a>\u001b[0m class_names \u001b[39m=\u001b[39m obesity\u001b[39m.\u001b[39mNObeyesdad\u001b[39m.\u001b[39munique()\n\u001b[0;32m      <a href='vscode-notebook-cell:/c%3A/Users/Murilo/Desktop/WorkSpace/TP2_walmir/RNA-Clustering/Clustering/clustering.ipynb#X11sZmlsZQ%3D%3D?line=4'>5</a>\u001b[0m \u001b[39mfor\u001b[39;00m col \u001b[39min\u001b[39;00m obesity:\n",
      "\u001b[1;31mKeyError\u001b[0m: 'Age'"
     ]
    }
   ],
   "source": [
    "for col in obesity:\n",
    "    obesity[col] = obesity[col].apply(lambda k: features_map[col][k])\n",
    "class_names = obesity.NObeyesdad.unique()\n",
    "\n",
    "for col in obesity:\n",
    "    print(f'Feature:\"{col}\", Valores: {obesity[col].unique()}')\n",
    "print(f'Class Names:', class_names)\n"
   ]
  },
  {
   "cell_type": "markdown",
   "metadata": {},
   "source": [
    "### Para Agrupamento (clustering), feature \"id\" não é bem-vinda!"
   ]
  },
  {
   "cell_type": "code",
   "execution_count": 29,
   "metadata": {},
   "outputs": [],
   "source": [
    "# Vamos excluir o CustomerID..Vamos lá !\n",
    "# Agora ficará: 0.Dealership, 1.Showroom, 2.ComputerSearch, 3.M5, 4.3Series, 5.Z4, 6.Financing, 7.Purchase\n",
    "X_obesity = obesity.iloc[:, 1:17].values"
   ]
  },
  {
   "cell_type": "markdown",
   "metadata": {},
   "source": [
    "### Criação do modelo de Agrupamento (Clustering) usando K-Means"
   ]
  },
  {
   "cell_type": "code",
   "execution_count": 30,
   "metadata": {},
   "outputs": [
    {
     "data": {
      "text/html": [
       "<style>#sk-container-id-1 {color: black;}#sk-container-id-1 pre{padding: 0;}#sk-container-id-1 div.sk-toggleable {background-color: white;}#sk-container-id-1 label.sk-toggleable__label {cursor: pointer;display: block;width: 100%;margin-bottom: 0;padding: 0.3em;box-sizing: border-box;text-align: center;}#sk-container-id-1 label.sk-toggleable__label-arrow:before {content: \"▸\";float: left;margin-right: 0.25em;color: #696969;}#sk-container-id-1 label.sk-toggleable__label-arrow:hover:before {color: black;}#sk-container-id-1 div.sk-estimator:hover label.sk-toggleable__label-arrow:before {color: black;}#sk-container-id-1 div.sk-toggleable__content {max-height: 0;max-width: 0;overflow: hidden;text-align: left;background-color: #f0f8ff;}#sk-container-id-1 div.sk-toggleable__content pre {margin: 0.2em;color: black;border-radius: 0.25em;background-color: #f0f8ff;}#sk-container-id-1 input.sk-toggleable__control:checked~div.sk-toggleable__content {max-height: 200px;max-width: 100%;overflow: auto;}#sk-container-id-1 input.sk-toggleable__control:checked~label.sk-toggleable__label-arrow:before {content: \"▾\";}#sk-container-id-1 div.sk-estimator input.sk-toggleable__control:checked~label.sk-toggleable__label {background-color: #d4ebff;}#sk-container-id-1 div.sk-label input.sk-toggleable__control:checked~label.sk-toggleable__label {background-color: #d4ebff;}#sk-container-id-1 input.sk-hidden--visually {border: 0;clip: rect(1px 1px 1px 1px);clip: rect(1px, 1px, 1px, 1px);height: 1px;margin: -1px;overflow: hidden;padding: 0;position: absolute;width: 1px;}#sk-container-id-1 div.sk-estimator {font-family: monospace;background-color: #f0f8ff;border: 1px dotted black;border-radius: 0.25em;box-sizing: border-box;margin-bottom: 0.5em;}#sk-container-id-1 div.sk-estimator:hover {background-color: #d4ebff;}#sk-container-id-1 div.sk-parallel-item::after {content: \"\";width: 100%;border-bottom: 1px solid gray;flex-grow: 1;}#sk-container-id-1 div.sk-label:hover label.sk-toggleable__label {background-color: #d4ebff;}#sk-container-id-1 div.sk-serial::before {content: \"\";position: absolute;border-left: 1px solid gray;box-sizing: border-box;top: 0;bottom: 0;left: 50%;z-index: 0;}#sk-container-id-1 div.sk-serial {display: flex;flex-direction: column;align-items: center;background-color: white;padding-right: 0.2em;padding-left: 0.2em;position: relative;}#sk-container-id-1 div.sk-item {position: relative;z-index: 1;}#sk-container-id-1 div.sk-parallel {display: flex;align-items: stretch;justify-content: center;background-color: white;position: relative;}#sk-container-id-1 div.sk-item::before, #sk-container-id-1 div.sk-parallel-item::before {content: \"\";position: absolute;border-left: 1px solid gray;box-sizing: border-box;top: 0;bottom: 0;left: 50%;z-index: -1;}#sk-container-id-1 div.sk-parallel-item {display: flex;flex-direction: column;z-index: 1;position: relative;background-color: white;}#sk-container-id-1 div.sk-parallel-item:first-child::after {align-self: flex-end;width: 50%;}#sk-container-id-1 div.sk-parallel-item:last-child::after {align-self: flex-start;width: 50%;}#sk-container-id-1 div.sk-parallel-item:only-child::after {width: 0;}#sk-container-id-1 div.sk-dashed-wrapped {border: 1px dashed gray;margin: 0 0.4em 0.5em 0.4em;box-sizing: border-box;padding-bottom: 0.4em;background-color: white;}#sk-container-id-1 div.sk-label label {font-family: monospace;font-weight: bold;display: inline-block;line-height: 1.2em;}#sk-container-id-1 div.sk-label-container {text-align: center;}#sk-container-id-1 div.sk-container {/* jupyter's `normalize.less` sets `[hidden] { display: none; }` but bootstrap.min.css set `[hidden] { display: none !important; }` so we also need the `!important` here to be able to override the default hidden behavior on the sphinx rendered scikit-learn.org. See: https://github.com/scikit-learn/scikit-learn/issues/21755 */display: inline-block !important;position: relative;}#sk-container-id-1 div.sk-text-repr-fallback {display: none;}</style><div id=\"sk-container-id-1\" class=\"sk-top-container\"><div class=\"sk-text-repr-fallback\"><pre>KMeans(init=&#x27;random&#x27;, n_clusters=3)</pre><b>In a Jupyter environment, please rerun this cell to show the HTML representation or trust the notebook. <br />On GitHub, the HTML representation is unable to render, please try loading this page with nbviewer.org.</b></div><div class=\"sk-container\" hidden><div class=\"sk-item\"><div class=\"sk-estimator sk-toggleable\"><input class=\"sk-toggleable__control sk-hidden--visually\" id=\"sk-estimator-id-1\" type=\"checkbox\" checked><label for=\"sk-estimator-id-1\" class=\"sk-toggleable__label sk-toggleable__label-arrow\">KMeans</label><div class=\"sk-toggleable__content\"><pre>KMeans(init=&#x27;random&#x27;, n_clusters=3)</pre></div></div></div></div></div>"
      ],
      "text/plain": [
       "KMeans(init='random', n_clusters=3)"
      ]
     },
     "execution_count": 30,
     "metadata": {},
     "output_type": "execute_result"
    }
   ],
   "source": [
    "#Parametrizando K-Means com 3 Clusters e Metodo de Inicialização Randômica\n",
    "kmeans = KMeans(n_clusters = 3, init = 'random')\n",
    "kmeans"
   ]
  },
  {
   "cell_type": "markdown",
   "metadata": {},
   "source": [
    "### Treino do modelo e exibindo os centroids"
   ]
  },
  {
   "cell_type": "code",
   "execution_count": 31,
   "metadata": {},
   "outputs": [
    {
     "ename": "ValueError",
     "evalue": "could not convert string to float: 'yes'",
     "output_type": "error",
     "traceback": [
      "\u001b[1;31m---------------------------------------------------------------------------\u001b[0m",
      "\u001b[1;31mValueError\u001b[0m                                Traceback (most recent call last)",
      "\u001b[1;32mc:\\Users\\Murilo\\Desktop\\WorkSpace\\TP2_walmir\\RNA-Clustering\\Clustering\\clustering.ipynb Cell 15\u001b[0m line \u001b[0;36m1\n\u001b[1;32m----> <a href='vscode-notebook-cell:/c%3A/Users/Murilo/Desktop/WorkSpace/TP2_walmir/RNA-Clustering/Clustering/clustering.ipynb#X20sZmlsZQ%3D%3D?line=0'>1</a>\u001b[0m kmeans\u001b[39m.\u001b[39;49mfit(X_obesity) \u001b[39m# Treino do modelo com os Dados\u001b[39;00m\n\u001b[0;32m      <a href='vscode-notebook-cell:/c%3A/Users/Murilo/Desktop/WorkSpace/TP2_walmir/RNA-Clustering/Clustering/clustering.ipynb#X20sZmlsZQ%3D%3D?line=2'>3</a>\u001b[0m kmeans\u001b[39m.\u001b[39mcluster_centers_ \u001b[39m# Exibindo os Centroids - São 3 grupos, portanto, 3 linhas com 8 colunas = 8 features\u001b[39;00m\n\u001b[0;32m      <a href='vscode-notebook-cell:/c%3A/Users/Murilo/Desktop/WorkSpace/TP2_walmir/RNA-Clustering/Clustering/clustering.ipynb#X20sZmlsZQ%3D%3D?line=4'>5</a>\u001b[0m kmeans\u001b[39m.\u001b[39mfit(X_obesity) \u001b[39m# Treinando novamente o modelo com os Dados - Observe que novos Centroids são calculados (inicialização randômica!)\u001b[39;00m\n",
      "File \u001b[1;32mc:\\Users\\Murilo\\Desktop\\WorkSpace\\TP2_walmir\\venvml\\lib\\site-packages\\sklearn\\base.py:1152\u001b[0m, in \u001b[0;36m_fit_context.<locals>.decorator.<locals>.wrapper\u001b[1;34m(estimator, *args, **kwargs)\u001b[0m\n\u001b[0;32m   1145\u001b[0m     estimator\u001b[39m.\u001b[39m_validate_params()\n\u001b[0;32m   1147\u001b[0m \u001b[39mwith\u001b[39;00m config_context(\n\u001b[0;32m   1148\u001b[0m     skip_parameter_validation\u001b[39m=\u001b[39m(\n\u001b[0;32m   1149\u001b[0m         prefer_skip_nested_validation \u001b[39mor\u001b[39;00m global_skip_validation\n\u001b[0;32m   1150\u001b[0m     )\n\u001b[0;32m   1151\u001b[0m ):\n\u001b[1;32m-> 1152\u001b[0m     \u001b[39mreturn\u001b[39;00m fit_method(estimator, \u001b[39m*\u001b[39margs, \u001b[39m*\u001b[39m\u001b[39m*\u001b[39mkwargs)\n",
      "File \u001b[1;32mc:\\Users\\Murilo\\Desktop\\WorkSpace\\TP2_walmir\\venvml\\lib\\site-packages\\sklearn\\cluster\\_kmeans.py:1475\u001b[0m, in \u001b[0;36mKMeans.fit\u001b[1;34m(self, X, y, sample_weight)\u001b[0m\n\u001b[0;32m   1447\u001b[0m \u001b[39m@_fit_context\u001b[39m(prefer_skip_nested_validation\u001b[39m=\u001b[39m\u001b[39mTrue\u001b[39;00m)\n\u001b[0;32m   1448\u001b[0m \u001b[39mdef\u001b[39;00m \u001b[39mfit\u001b[39m(\u001b[39mself\u001b[39m, X, y\u001b[39m=\u001b[39m\u001b[39mNone\u001b[39;00m, sample_weight\u001b[39m=\u001b[39m\u001b[39mNone\u001b[39;00m):\n\u001b[0;32m   1449\u001b[0m \u001b[39m    \u001b[39m\u001b[39m\"\"\"Compute k-means clustering.\u001b[39;00m\n\u001b[0;32m   1450\u001b[0m \n\u001b[0;32m   1451\u001b[0m \u001b[39m    Parameters\u001b[39;00m\n\u001b[1;32m   (...)\u001b[0m\n\u001b[0;32m   1473\u001b[0m \u001b[39m        Fitted estimator.\u001b[39;00m\n\u001b[0;32m   1474\u001b[0m \u001b[39m    \"\"\"\u001b[39;00m\n\u001b[1;32m-> 1475\u001b[0m     X \u001b[39m=\u001b[39m \u001b[39mself\u001b[39;49m\u001b[39m.\u001b[39;49m_validate_data(\n\u001b[0;32m   1476\u001b[0m         X,\n\u001b[0;32m   1477\u001b[0m         accept_sparse\u001b[39m=\u001b[39;49m\u001b[39m\"\u001b[39;49m\u001b[39mcsr\u001b[39;49m\u001b[39m\"\u001b[39;49m,\n\u001b[0;32m   1478\u001b[0m         dtype\u001b[39m=\u001b[39;49m[np\u001b[39m.\u001b[39;49mfloat64, np\u001b[39m.\u001b[39;49mfloat32],\n\u001b[0;32m   1479\u001b[0m         order\u001b[39m=\u001b[39;49m\u001b[39m\"\u001b[39;49m\u001b[39mC\u001b[39;49m\u001b[39m\"\u001b[39;49m,\n\u001b[0;32m   1480\u001b[0m         copy\u001b[39m=\u001b[39;49m\u001b[39mself\u001b[39;49m\u001b[39m.\u001b[39;49mcopy_x,\n\u001b[0;32m   1481\u001b[0m         accept_large_sparse\u001b[39m=\u001b[39;49m\u001b[39mFalse\u001b[39;49;00m,\n\u001b[0;32m   1482\u001b[0m     )\n\u001b[0;32m   1484\u001b[0m     \u001b[39mself\u001b[39m\u001b[39m.\u001b[39m_check_params_vs_input(X)\n\u001b[0;32m   1486\u001b[0m     random_state \u001b[39m=\u001b[39m check_random_state(\u001b[39mself\u001b[39m\u001b[39m.\u001b[39mrandom_state)\n",
      "File \u001b[1;32mc:\\Users\\Murilo\\Desktop\\WorkSpace\\TP2_walmir\\venvml\\lib\\site-packages\\sklearn\\base.py:605\u001b[0m, in \u001b[0;36mBaseEstimator._validate_data\u001b[1;34m(self, X, y, reset, validate_separately, cast_to_ndarray, **check_params)\u001b[0m\n\u001b[0;32m    603\u001b[0m         out \u001b[39m=\u001b[39m X, y\n\u001b[0;32m    604\u001b[0m \u001b[39melif\u001b[39;00m \u001b[39mnot\u001b[39;00m no_val_X \u001b[39mand\u001b[39;00m no_val_y:\n\u001b[1;32m--> 605\u001b[0m     out \u001b[39m=\u001b[39m check_array(X, input_name\u001b[39m=\u001b[39m\u001b[39m\"\u001b[39m\u001b[39mX\u001b[39m\u001b[39m\"\u001b[39m, \u001b[39m*\u001b[39m\u001b[39m*\u001b[39mcheck_params)\n\u001b[0;32m    606\u001b[0m \u001b[39melif\u001b[39;00m no_val_X \u001b[39mand\u001b[39;00m \u001b[39mnot\u001b[39;00m no_val_y:\n\u001b[0;32m    607\u001b[0m     out \u001b[39m=\u001b[39m _check_y(y, \u001b[39m*\u001b[39m\u001b[39m*\u001b[39mcheck_params)\n",
      "File \u001b[1;32mc:\\Users\\Murilo\\Desktop\\WorkSpace\\TP2_walmir\\venvml\\lib\\site-packages\\sklearn\\utils\\validation.py:915\u001b[0m, in \u001b[0;36mcheck_array\u001b[1;34m(array, accept_sparse, accept_large_sparse, dtype, order, copy, force_all_finite, ensure_2d, allow_nd, ensure_min_samples, ensure_min_features, estimator, input_name)\u001b[0m\n\u001b[0;32m    913\u001b[0m         array \u001b[39m=\u001b[39m xp\u001b[39m.\u001b[39mastype(array, dtype, copy\u001b[39m=\u001b[39m\u001b[39mFalse\u001b[39;00m)\n\u001b[0;32m    914\u001b[0m     \u001b[39melse\u001b[39;00m:\n\u001b[1;32m--> 915\u001b[0m         array \u001b[39m=\u001b[39m _asarray_with_order(array, order\u001b[39m=\u001b[39;49morder, dtype\u001b[39m=\u001b[39;49mdtype, xp\u001b[39m=\u001b[39;49mxp)\n\u001b[0;32m    916\u001b[0m \u001b[39mexcept\u001b[39;00m ComplexWarning \u001b[39mas\u001b[39;00m complex_warning:\n\u001b[0;32m    917\u001b[0m     \u001b[39mraise\u001b[39;00m \u001b[39mValueError\u001b[39;00m(\n\u001b[0;32m    918\u001b[0m         \u001b[39m\"\u001b[39m\u001b[39mComplex data not supported\u001b[39m\u001b[39m\\n\u001b[39;00m\u001b[39m{}\u001b[39;00m\u001b[39m\\n\u001b[39;00m\u001b[39m\"\u001b[39m\u001b[39m.\u001b[39mformat(array)\n\u001b[0;32m    919\u001b[0m     ) \u001b[39mfrom\u001b[39;00m \u001b[39mcomplex_warning\u001b[39;00m\n",
      "File \u001b[1;32mc:\\Users\\Murilo\\Desktop\\WorkSpace\\TP2_walmir\\venvml\\lib\\site-packages\\sklearn\\utils\\_array_api.py:380\u001b[0m, in \u001b[0;36m_asarray_with_order\u001b[1;34m(array, dtype, order, copy, xp)\u001b[0m\n\u001b[0;32m    378\u001b[0m     array \u001b[39m=\u001b[39m numpy\u001b[39m.\u001b[39marray(array, order\u001b[39m=\u001b[39morder, dtype\u001b[39m=\u001b[39mdtype)\n\u001b[0;32m    379\u001b[0m \u001b[39melse\u001b[39;00m:\n\u001b[1;32m--> 380\u001b[0m     array \u001b[39m=\u001b[39m numpy\u001b[39m.\u001b[39;49masarray(array, order\u001b[39m=\u001b[39;49morder, dtype\u001b[39m=\u001b[39;49mdtype)\n\u001b[0;32m    382\u001b[0m \u001b[39m# At this point array is a NumPy ndarray. We convert it to an array\u001b[39;00m\n\u001b[0;32m    383\u001b[0m \u001b[39m# container that is consistent with the input's namespace.\u001b[39;00m\n\u001b[0;32m    384\u001b[0m \u001b[39mreturn\u001b[39;00m xp\u001b[39m.\u001b[39masarray(array)\n",
      "\u001b[1;31mValueError\u001b[0m: could not convert string to float: 'yes'"
     ]
    }
   ],
   "source": [
    "kmeans.fit(X_obesity) # Treino do modelo com os Dados\n",
    "\n",
    "kmeans.cluster_centers_ # Exibindo os Centroids - São 3 grupos, portanto, 3 linhas com 8 colunas = 8 features\n",
    "\n",
    "kmeans.fit(X_obesity) # Treinando novamente o modelo com os Dados - Observe que novos Centroids são calculados (inicialização randômica!)\n",
    "\n",
    "kmeans.cluster_centers_ # Exibindo os Centroids - São 3 grupos, portanto, 3 linhas com 8 colunas = 8 features"
   ]
  },
  {
   "cell_type": "markdown",
   "metadata": {},
   "source": [
    "### Executa K-Means para agrupar os dados e retorna Tabela de Distancias (fit_transform)"
   ]
  },
  {
   "cell_type": "code",
   "execution_count": null,
   "metadata": {},
   "outputs": [],
   "source": [
    "# Calcula a distância entre os dados de cada linha (instância) e cada um dos 3 clusters\n",
    "distance = kmeans.fit_transform(Xbmw)\n",
    "distance"
   ]
  },
  {
   "cell_type": "markdown",
   "metadata": {},
   "source": [
    "### Para cada uma das 100 linhas do dataset, a qual dos 3 clusters ela pertence..0, 1 ou 2 ?"
   ]
  },
  {
   "cell_type": "code",
   "execution_count": null,
   "metadata": {},
   "outputs": [],
   "source": [
    "# São 100 elementos no array, um por linha\n",
    "labels = kmeans.labels_\n",
    "labels"
   ]
  },
  {
   "cell_type": "markdown",
   "metadata": {},
   "source": [
    "### Exibindo novamente os Centroids (atualizados) - São 3 grupos, portanto, 3 linhas com 8 colunas = 8 features"
   ]
  },
  {
   "cell_type": "markdown",
   "metadata": {},
   "source": [
    "kmeans.cluster_centers_"
   ]
  },
  {
   "cell_type": "markdown",
   "metadata": {},
   "source": [
    "### Visualizando os Clusters "
   ]
  },
  {
   "cell_type": "markdown",
   "metadata": {},
   "source": [
    "#### Exemplo 1"
   ]
  },
  {
   "cell_type": "code",
   "execution_count": null,
   "metadata": {},
   "outputs": [],
   "source": [
    "# Dados: 0.Dealership, 1.Showroom, 2.ComputerSearch, 3.M5, 4.3Series, 5.Z4, 6.Financing, 7.Purchase\n",
    "plt.scatter(Xbmw[:, 6], Xbmw[:,7], s = 100, c = kmeans.labels_)\n",
    "plt.scatter(kmeans.cluster_centers_[:, 6], kmeans.cluster_centers_[:, 7], s = 20, c = 'red')\n",
    "plt.title('Customer Clusters and Centroids')\n",
    "plt.xlabel('Financing')\n",
    "plt.ylabel('Purchase')\n",
    "plt.show()\n"
   ]
  },
  {
   "cell_type": "markdown",
   "metadata": {},
   "source": [
    "#### Exemplo 2\n"
   ]
  },
  {
   "cell_type": "code",
   "execution_count": null,
   "metadata": {},
   "outputs": [],
   "source": [
    "# Dados: 0.Dealership, 1.Showroom, 2.ComputerSearch, 3.M5, 4.3Series, 5.Z4, 6.Financing, 7.Purchase\n",
    "plt.scatter(Xbmw[:, 3], Xbmw[:, 7], s = 100, c = kmeans.labels_)\n",
    "plt.scatter(kmeans.cluster_centers_[:, 3], kmeans.cluster_centers_[:, 7], s = 20, c = 'red')\n",
    "plt.title('Customer Clusters and Centroids')\n",
    "plt.xlabel('M5')\n",
    "plt.ylabel('Purchase')\n",
    "plt.show()\n"
   ]
  },
  {
   "cell_type": "markdown",
   "metadata": {},
   "source": [
    "### Cálculo do WCSSE - Within Cluster Sum of Squared Errors"
   ]
  },
  {
   "cell_type": "code",
   "execution_count": null,
   "metadata": {},
   "outputs": [],
   "source": [
    "wcsse = []\n",
    "maxclusters = 11\n",
    "for i in range(1, maxclusters):\n",
    "    kmeans = KMeans(n_clusters = i, init = 'random')\n",
    "    kmeans.fit(Xbmw)\n",
    "    print (i,kmeans.inertia_)\n",
    "    wcsse.append(kmeans.inertia_)\n"
   ]
  },
  {
   "cell_type": "markdown",
   "metadata": {},
   "source": [
    "### Plotagem do Gráfico para visualização do \"cotovelo\" - Método de Elbow"
   ]
  },
  {
   "cell_type": "code",
   "execution_count": null,
   "metadata": {},
   "outputs": [],
   "source": [
    "# Ao final do Estudo do Metodo de Elbow a seguir, foram gerados 11 clusters\n",
    "plt.plot(range(1, maxclusters), wcsse)\n",
    "plt.title('O Metodo Elbow')\n",
    "plt.xlabel('Qtde. de Clusters')\n",
    "plt.ylabel('WCSSE') # Within Cluster Sum of Squares\n",
    "plt.show()\n"
   ]
  },
  {
   "cell_type": "markdown",
   "metadata": {},
   "source": [
    "### Clientes"
   ]
  },
  {
   "cell_type": "code",
   "execution_count": null,
   "metadata": {},
   "outputs": [],
   "source": [
    "# Para o cliente 1 => Dealership=1, Showroom=1, ComputerSearch=1, M5=1, 3Series=1,\n",
    "#                Z4=1, Financing=1, Purchase=1, qual grupo ele pertence?\n",
    "# O comando predict nos traz o cluster=4\n",
    "newcustomer1= [ [1, 1, 1, 1, 1, 1, 1, 1] ]\n",
    "kmeans.predict(newcustomer1)\n",
    "\n",
    "# Para o cliente 2 => Dealership=1, Showroom=0, ComputerSearch=0, M5=0, 3Series=1,\n",
    "#                Z4=1, Financing=1, Purchase=1, qual grupo ele pertence?\n",
    "# O comando predict nos traz o cluster=2\n",
    "\n",
    "newcustomer2 = [ [1, 0, 0, 0, 1, 1, 1, 1] ]\n",
    "kmeans.predict(newcustomer2)"
   ]
  }
 ],
 "metadata": {
  "kernelspec": {
   "display_name": "Python 3",
   "language": "python",
   "name": "python3"
  },
  "language_info": {
   "codemirror_mode": {
    "name": "ipython",
    "version": 3
   },
   "file_extension": ".py",
   "mimetype": "text/x-python",
   "name": "python",
   "nbconvert_exporter": "python",
   "pygments_lexer": "ipython3",
   "version": "3.10.11"
  }
 },
 "nbformat": 4,
 "nbformat_minor": 2
}
