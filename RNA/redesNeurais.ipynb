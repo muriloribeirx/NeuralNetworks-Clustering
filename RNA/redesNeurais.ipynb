{
 "cells": [
  {
   "cell_type": "markdown",
   "metadata": {},
   "source": [
    "# Neural Network"
   ]
  },
  {
   "cell_type": "markdown",
   "metadata": {},
   "source": [
    "### Importação de Bibliotecas"
   ]
  },
  {
   "cell_type": "code",
   "execution_count": 7,
   "metadata": {},
   "outputs": [],
   "source": [
    "import cv2           \n",
    "import numpy as np\n",
    "import os\n",
    "import zipfile\n",
    "from cv2_plt_imshow import cv2_plt_imshow\n",
    "# import tensorflow as tf\n",
    "import pandas as pd\n",
    "import seaborn as sns\n",
    "import matplotlib.pyplot as plt"
   ]
  },
  {
   "cell_type": "markdown",
   "metadata": {},
   "source": [
    "### Extraction of pixels from images"
   ]
  },
  {
   "cell_type": "code",
   "execution_count": 8,
   "metadata": {},
   "outputs": [
    {
     "name": "stdout",
     "output_type": "stream",
     "text": [
      "['./homer_bart_1/bart1.bmp', './homer_bart_1/bart10.bmp', './homer_bart_1/bart100.bmp', './homer_bart_1/bart101.bmp', './homer_bart_1/bart102.bmp', './homer_bart_1/bart103.bmp', './homer_bart_1/bart104.bmp', './homer_bart_1/bart105.bmp', './homer_bart_1/bart106.bmp', './homer_bart_1/bart108.bmp', './homer_bart_1/bart109.bmp', './homer_bart_1/bart11.bmp', './homer_bart_1/bart110.bmp', './homer_bart_1/bart111.bmp', './homer_bart_1/bart112.bmp', './homer_bart_1/bart113.bmp', './homer_bart_1/bart114.bmp', './homer_bart_1/bart115.bmp', './homer_bart_1/bart116.bmp', './homer_bart_1/bart117.bmp', './homer_bart_1/bart118.bmp', './homer_bart_1/bart119.bmp', './homer_bart_1/bart12.bmp', './homer_bart_1/bart120.bmp', './homer_bart_1/bart121.bmp', './homer_bart_1/bart122.bmp', './homer_bart_1/bart123.bmp', './homer_bart_1/bart124.bmp', './homer_bart_1/bart125.bmp', './homer_bart_1/bart126.bmp', './homer_bart_1/bart127.bmp', './homer_bart_1/bart128.bmp', './homer_bart_1/bart13.bmp', './homer_bart_1/bart130.bmp', './homer_bart_1/bart131.bmp', './homer_bart_1/bart132.bmp', './homer_bart_1/bart133.bmp', './homer_bart_1/bart134.bmp', './homer_bart_1/bart135.bmp', './homer_bart_1/bart136.bmp', './homer_bart_1/bart137.bmp', './homer_bart_1/bart138.bmp', './homer_bart_1/bart139.bmp', './homer_bart_1/bart14.bmp', './homer_bart_1/bart141.bmp', './homer_bart_1/bart142.bmp', './homer_bart_1/bart143.bmp', './homer_bart_1/bart144.bmp', './homer_bart_1/bart145.bmp', './homer_bart_1/bart146.bmp', './homer_bart_1/bart147.bmp', './homer_bart_1/bart148.bmp', './homer_bart_1/bart149.bmp', './homer_bart_1/bart15.bmp', './homer_bart_1/bart150.bmp', './homer_bart_1/bart151.bmp', './homer_bart_1/bart153.bmp', './homer_bart_1/bart154.bmp', './homer_bart_1/bart155.bmp', './homer_bart_1/bart156.bmp', './homer_bart_1/bart157.bmp', './homer_bart_1/bart158.bmp', './homer_bart_1/bart159.bmp', './homer_bart_1/bart16.bmp', './homer_bart_1/bart160.bmp', './homer_bart_1/bart161.bmp', './homer_bart_1/bart162.bmp', './homer_bart_1/bart164.bmp', './homer_bart_1/bart165.bmp', './homer_bart_1/bart166.bmp', './homer_bart_1/bart167.bmp', './homer_bart_1/bart168.bmp', './homer_bart_1/bart169.bmp', './homer_bart_1/bart17.bmp', './homer_bart_1/bart18.bmp', './homer_bart_1/bart19.bmp', './homer_bart_1/bart2.bmp', './homer_bart_1/bart20.bmp', './homer_bart_1/bart21.bmp', './homer_bart_1/bart22.bmp', './homer_bart_1/bart23.bmp', './homer_bart_1/bart24.bmp', './homer_bart_1/bart25.bmp', './homer_bart_1/bart26.bmp', './homer_bart_1/bart27.bmp', './homer_bart_1/bart28.bmp', './homer_bart_1/bart29.bmp', './homer_bart_1/bart3.bmp', './homer_bart_1/bart30.bmp', './homer_bart_1/bart31.bmp', './homer_bart_1/bart32.bmp', './homer_bart_1/bart34.bmp', './homer_bart_1/bart35.bmp', './homer_bart_1/bart36.bmp', './homer_bart_1/bart37.bmp', './homer_bart_1/bart38.bmp', './homer_bart_1/bart39.bmp', './homer_bart_1/bart4.bmp', './homer_bart_1/bart40.bmp', './homer_bart_1/bart42.bmp', './homer_bart_1/bart43.bmp', './homer_bart_1/bart44.bmp', './homer_bart_1/bart45.bmp', './homer_bart_1/bart46.bmp', './homer_bart_1/bart47.bmp', './homer_bart_1/bart48.bmp', './homer_bart_1/bart49.bmp', './homer_bart_1/bart5.bmp', './homer_bart_1/bart50.bmp', './homer_bart_1/bart51.bmp', './homer_bart_1/bart52.bmp', './homer_bart_1/bart53.bmp', './homer_bart_1/bart54.bmp', './homer_bart_1/bart55.bmp', './homer_bart_1/bart56.bmp', './homer_bart_1/bart57.bmp', './homer_bart_1/bart58.bmp', './homer_bart_1/bart59.bmp', './homer_bart_1/bart6.bmp', './homer_bart_1/bart60.bmp', './homer_bart_1/bart61.bmp', './homer_bart_1/bart62.bmp', './homer_bart_1/bart63.bmp', './homer_bart_1/bart64.bmp', './homer_bart_1/bart65.bmp', './homer_bart_1/bart66.bmp', './homer_bart_1/bart67.bmp', './homer_bart_1/bart68.bmp', './homer_bart_1/bart69.bmp', './homer_bart_1/bart7.bmp', './homer_bart_1/bart70.bmp', './homer_bart_1/bart71.bmp', './homer_bart_1/bart72.bmp', './homer_bart_1/bart73.bmp', './homer_bart_1/bart74.bmp', './homer_bart_1/bart75.bmp', './homer_bart_1/bart76.bmp', './homer_bart_1/bart77.bmp', './homer_bart_1/bart79.bmp', './homer_bart_1/bart8.bmp', './homer_bart_1/bart80.bmp', './homer_bart_1/bart81.bmp', './homer_bart_1/bart82.bmp', './homer_bart_1/bart83.bmp', './homer_bart_1/bart84.bmp', './homer_bart_1/bart85.bmp', './homer_bart_1/bart86.bmp', './homer_bart_1/bart87.bmp', './homer_bart_1/bart89.bmp', './homer_bart_1/bart9.bmp', './homer_bart_1/bart90.bmp', './homer_bart_1/bart91.bmp', './homer_bart_1/bart92.bmp', './homer_bart_1/bart93.bmp', './homer_bart_1/bart94.bmp', './homer_bart_1/bart95.bmp', './homer_bart_1/bart96.bmp', './homer_bart_1/bart97.bmp', './homer_bart_1/bart98.bmp', './homer_bart_1/bart99.bmp', './homer_bart_1/homer1.bmp', './homer_bart_1/homer10.bmp', './homer_bart_1/homer100.bmp', './homer_bart_1/homer101.bmp', './homer_bart_1/homer102.bmp', './homer_bart_1/homer103.bmp', './homer_bart_1/homer104.bmp', './homer_bart_1/homer105.bmp', './homer_bart_1/homer106.bmp', './homer_bart_1/homer107.bmp', './homer_bart_1/homer109.bmp', './homer_bart_1/homer110.bmp', './homer_bart_1/homer112.bmp', './homer_bart_1/homer113.bmp', './homer_bart_1/homer115.bmp', './homer_bart_1/homer116.bmp', './homer_bart_1/homer117.bmp', './homer_bart_1/homer119.bmp', './homer_bart_1/homer120.bmp', './homer_bart_1/homer121.bmp', './homer_bart_1/homer122.bmp', './homer_bart_1/homer123.bmp', './homer_bart_1/homer124.bmp', './homer_bart_1/homer13.bmp', './homer_bart_1/homer14.bmp', './homer_bart_1/homer15.bmp', './homer_bart_1/homer16.bmp', './homer_bart_1/homer17.bmp', './homer_bart_1/homer18.bmp', './homer_bart_1/homer2.bmp', './homer_bart_1/homer20.bmp', './homer_bart_1/homer21.bmp', './homer_bart_1/homer22.bmp', './homer_bart_1/homer23.bmp', './homer_bart_1/homer24.bmp', './homer_bart_1/homer26.bmp', './homer_bart_1/homer27.bmp', './homer_bart_1/homer28.bmp', './homer_bart_1/homer29.bmp', './homer_bart_1/homer3.bmp', './homer_bart_1/homer30.bmp', './homer_bart_1/homer31.bmp', './homer_bart_1/homer32.bmp', './homer_bart_1/homer33.bmp', './homer_bart_1/homer34.bmp', './homer_bart_1/homer35.bmp', './homer_bart_1/homer36.bmp', './homer_bart_1/homer37.bmp', './homer_bart_1/homer38.bmp', './homer_bart_1/homer4.bmp', './homer_bart_1/homer40.bmp', './homer_bart_1/homer41.bmp', './homer_bart_1/homer43.bmp', './homer_bart_1/homer44.bmp', './homer_bart_1/homer45.bmp', './homer_bart_1/homer46.bmp', './homer_bart_1/homer47.bmp', './homer_bart_1/homer48.bmp', './homer_bart_1/homer49.bmp', './homer_bart_1/homer5.bmp', './homer_bart_1/homer50.bmp', './homer_bart_1/homer51.bmp', './homer_bart_1/homer52.bmp', './homer_bart_1/homer54.bmp', './homer_bart_1/homer55.bmp', './homer_bart_1/homer56.bmp', './homer_bart_1/homer57.bmp', './homer_bart_1/homer58.bmp', './homer_bart_1/homer59.bmp', './homer_bart_1/homer6.bmp', './homer_bart_1/homer60.bmp', './homer_bart_1/homer61.bmp', './homer_bart_1/homer62.bmp', './homer_bart_1/homer63.bmp', './homer_bart_1/homer65.bmp', './homer_bart_1/homer66.bmp', './homer_bart_1/homer68.bmp', './homer_bart_1/homer69.bmp', './homer_bart_1/homer7.bmp', './homer_bart_1/homer70.bmp', './homer_bart_1/homer71.bmp', './homer_bart_1/homer72.bmp', './homer_bart_1/homer73.bmp', './homer_bart_1/homer74.bmp', './homer_bart_1/homer75.bmp', './homer_bart_1/homer76.bmp', './homer_bart_1/homer77.bmp', './homer_bart_1/homer78.bmp', './homer_bart_1/homer79.bmp', './homer_bart_1/homer8.bmp', './homer_bart_1/homer80.bmp', './homer_bart_1/homer81.bmp', './homer_bart_1/homer82.bmp', './homer_bart_1/homer83.bmp', './homer_bart_1/homer84.bmp', './homer_bart_1/homer85.bmp', './homer_bart_1/homer86.bmp', './homer_bart_1/homer87.bmp', './homer_bart_1/homer9.bmp', './homer_bart_1/homer90.bmp', './homer_bart_1/homer91.bmp', './homer_bart_1/homer92.bmp', './homer_bart_1/homer93.bmp', './homer_bart_1/homer94.bmp', './homer_bart_1/homer95.bmp', './homer_bart_1/homer96.bmp', './homer_bart_1/homer97.bmp', './homer_bart_1/homer98.bmp', './homer_bart_1/homer99.bmp']\n"
     ]
    }
   ],
   "source": [
    "path = './homer_bart_1/'\n",
    "directory = './homer_bart_1/'\n",
    "files = [os.path.join(directory, f) for f in sorted(os.listdir(directory))]\n",
    "print(files)"
   ]
  },
  {
   "cell_type": "code",
   "execution_count": null,
   "metadata": {},
   "outputs": [],
   "source": [
    "width, height = 128, 128 \n",
    "images = []\n",
    "classes = []  \n",
    "\n",
    "for path_image in files:\n",
    "  \n",
    "  try:                             \n",
    "    image = cv2.imread(path_image)\n",
    "    (H, W) = image.shape[:2]        \n",
    "  except:\n",
    "    continue\n",
    "\n",
    "  image = cv2.resize(image, (width, height))\n",
    "  image = cv2.cvtColor(image, cv2.COLOR_BGR2GRAY)   \n",
    "  cv2_plt_imshow(image)\n",
    "\n",
    "  image = image.ravel()\n",
    "\n",
    "  images.append(image)    \n",
    "  name_image = os.path.basename(os.path.normpath(path_image))  \n",
    "  #print(nome_imagem)\n",
    "  if name_image.startswith('b'):                             \n",
    "    classe = 0\n",
    "  else:\n",
    "    classe = 1\n",
    "\n",
    "  classes.append(classe)\n",
    "  print(classe)"
   ]
  },
  {
   "cell_type": "markdown",
   "metadata": {},
   "source": [
    "### Leitura de Arquivo e Preparação de Dados"
   ]
  },
  {
   "cell_type": "code",
   "execution_count": 9,
   "metadata": {},
   "outputs": [
    {
     "name": "stdout",
     "output_type": "stream",
     "text": [
      "<class 'pandas.core.frame.DataFrame'>\n",
      "RangeIndex: 150 entries, 0 to 149\n",
      "Data columns (total 4 columns):\n",
      " #   Column             Non-Null Count  Dtype  \n",
      "---  ------             --------------  -----  \n",
      " 0   sepal length (cm)  150 non-null    float64\n",
      " 1   sepal width (cm)   150 non-null    float64\n",
      " 2   petal length (cm)  150 non-null    float64\n",
      " 3   petal width (cm)   150 non-null    float64\n",
      "dtypes: float64(4)\n",
      "memory usage: 4.8 KB\n"
     ]
    },
    {
     "data": {
      "text/plain": [
       "array([0, 0, 0, 0, 0, 0, 0, 0, 0, 0, 0, 0, 0, 0, 0, 0, 0, 0, 0, 0, 0, 0,\n",
       "       0, 0, 0, 0, 0, 0, 0, 0, 0, 0, 0, 0, 0, 0, 0, 0, 0, 0, 0, 0, 0, 0,\n",
       "       0, 0, 0, 0, 0, 0, 1, 1, 1, 1, 1, 1, 1, 1, 1, 1, 1, 1, 1, 1, 1, 1,\n",
       "       1, 1, 1, 1, 1, 1, 1, 1, 1, 1, 1, 1, 1, 1, 1, 1, 1, 1, 1, 1, 1, 1,\n",
       "       1, 1, 1, 1, 1, 1, 1, 1, 1, 1, 1, 1, 2, 2, 2, 2, 2, 2, 2, 2, 2, 2,\n",
       "       2, 2, 2, 2, 2, 2, 2, 2, 2, 2, 2, 2, 2, 2, 2, 2, 2, 2, 2, 2, 2, 2,\n",
       "       2, 2, 2, 2, 2, 2, 2, 2, 2, 2, 2, 2, 2, 2, 2, 2, 2, 2])"
      ]
     },
     "execution_count": 9,
     "metadata": {},
     "output_type": "execute_result"
    }
   ],
   "source": [
    "iris_data = load_iris()\n",
    "X = pd.DataFrame(iris_data.data, columns=iris_data.feature_names)\n",
    "y = iris_data.target\n",
    "\n",
    "X.info()\n",
    "\n",
    "X.head()\n",
    "\n",
    "y\n"
   ]
  },
  {
   "cell_type": "markdown",
   "metadata": {},
   "source": [
    "### Construção do Modelo e Treinamento"
   ]
  },
  {
   "cell_type": "code",
   "execution_count": 10,
   "metadata": {},
   "outputs": [
    {
     "name": "stdout",
     "output_type": "stream",
     "text": [
      "0.9666666666666667\n"
     ]
    },
    {
     "data": {
      "image/png": "[encoded data removed]",
      "text/plain": [
       "<Figure size 640x480 with 2 Axes>"
      ]
     },
     "metadata": {},
     "output_type": "display_data"
    }
   ],
   "source": [
    "X_train, X_test, y_train, y_test = train_test_split(X,y,random_state=1, test_size=0.2)\n",
    "sc_X = StandardScaler()\n",
    "X_trainscaled=sc_X.fit_transform(X_train)\n",
    "X_testscaled=sc_X.transform(X_test)\n",
    "\n",
    "\n",
    "clf = MLPClassifier(hidden_layer_sizes=(256,128,64,32),activation=\"relu\",random_state=1).fit(X_trainscaled, y_train)\n",
    "y_pred=clf.predict(X_testscaled)\n",
    "print(clf.score(X_testscaled, y_test))\n",
    "\n",
    "# Classes: 0 - Setosa, 1 - Versicolor, 2 - Virginica\n",
    "from sklearn.metrics import confusion_matrix, ConfusionMatrixDisplay\n",
    "cm = confusion_matrix(y_test, y_pred, labels=clf.classes_)\n",
    "disp = ConfusionMatrixDisplay(confusion_matrix=cm, display_labels=clf.classes_)\n",
    "disp.plot()\n",
    "plt.show()\n"
   ]
  },
  {
   "cell_type": "markdown",
   "metadata": {},
   "source": [
    "#### Abordagem - Teste do Modelo com dado entrado pelo Usuário"
   ]
  },
  {
   "cell_type": "code",
   "execution_count": 11,
   "metadata": {},
   "outputs": [
    {
     "name": "stdout",
     "output_type": "stream",
     "text": [
      "[0]\n"
     ]
    }
   ],
   "source": [
    "X2_test = pd.DataFrame({'sepal length (cm)': [4.2], 'sepal width (cm)': [3.0], 'petal length (cm)': [1.2], 'petal width (cm)': [0.3]})\n",
    "X2_testscaled=sc_X.transform(X2_test)\n",
    "y2_pred=clf.predict(X2_testscaled)\n",
    "print(y2_pred) # 0 - Setosa, 1 - Versicolor, 2 - Virginica\n"
   ]
  }
 ],
 "metadata": {
  "kernelspec": {
   "display_name": "Python 3",
   "language": "python",
   "name": "python3"
  },
  "language_info": {
   "codemirror_mode": {
    "name": "ipython",
    "version": 3
   },
   "file_extension": ".py",
   "mimetype": "text/x-python",
   "name": "python",
   "nbconvert_exporter": "python",
   "pygments_lexer": "ipython3",
   "version": "3.11.6"
  }
 },
 "nbformat": 4,
 "nbformat_minor": 2
}
